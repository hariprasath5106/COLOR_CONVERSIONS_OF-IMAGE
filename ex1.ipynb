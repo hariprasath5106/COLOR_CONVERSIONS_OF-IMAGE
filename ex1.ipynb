{
 "cells": [
  {
   "cell_type": "code",
   "execution_count": 2,
   "id": "b8ab2f83-3587-40b0-89df-416526a65409",
   "metadata": {},
   "outputs": [],
   "source": [
    "import cv2\n",
    "image=cv2.imread('hari1.jpg',1)\n",
    "cv2.imshow('Image Window', image)\n",
    "cv2.waitKey(0)\n",
    "cv2.destroyAllWindows()"
   ]
  },
  {
   "cell_type": "code",
   "execution_count": 4,
   "id": "72ddd43a-a939-4a5e-a887-b382eddfce5a",
   "metadata": {},
   "outputs": [],
   "source": [
    "import cv2\n",
    "image = cv2.imread(\"hari1.jpg\")\n",
    "res = cv2.line(image, (0, 0), (image.shape[1], image.shape[0]), (255,0,0), 10)\n",
    "cv2.imshow('WINDOW', res)\n",
    "cv2.waitKey(0)\n",
    "cv2.destroyAllWindows()"
   ]
  },
  {
   "cell_type": "code",
   "execution_count": 5,
   "id": "cab90c86-06a3-49d4-b4fb-deae96085137",
   "metadata": {},
   "outputs": [],
   "source": [
    "import cv2\n",
    "image = cv2.imread(\"hari1.jpg\")\n",
    "height, width, _ = image.shape\n",
    "center_coordinates = (width // 2, height // 2)\n",
    "res = cv2.circle(image, center_coordinates, 120, (0, 255, 0), 10)\n",
    "cv2.imshow('WINDOW', res)\n",
    "cv2.waitKey(0)\n",
    "cv2.destroyAllWindows()"
   ]
  },
  {
   "cell_type": "code",
   "execution_count": 7,
   "id": "df5a386c-6594-4d07-bce5-cb46a40cc4e5",
   "metadata": {},
   "outputs": [],
   "source": [
    "import cv2\n",
    "image = cv2.imread(\"hari1.jpg\")\n",
    "start = (150, 100)\n",
    "stop = (300, 200)\n",
    "color = (255, 255, 100)\n",
    "thickness = 10           \n",
    "res_img = cv2.rectangle(image, start, stop, color, thickness)\n",
    "cv2.imshow('WINDOW', res_img)\n",
    "cv2.waitKey(0)\n",
    "cv2.destroyAllWindows()"
   ]
  },
  {
   "cell_type": "code",
   "execution_count": 8,
   "id": "2ca3f8f0-05b6-456c-8f75-376d3a430d6d",
   "metadata": {},
   "outputs": [],
   "source": [
    "import cv2\n",
    "image = cv2.imread(\"hari1.jpg\")\n",
    "text = \"Hariprasath\"\n",
    "position = (10, 50)\n",
    "font = cv2.FONT_HERSHEY_SIMPLEX\n",
    "font_scale = 1\n",
    "color = (255, 255, 255) \n",
    "thickness = 2\n",
    "res = cv2.putText(image, text, position, font, font_scale, color, thickness, cv2.LINE_AA)\n",
    "cv2.imshow('WINDOW', res)\n",
    "cv2.waitKey(0)\n",
    "cv2.destroyAllWindows()"
   ]
  },
  {
   "cell_type": "code",
   "execution_count": 9,
   "id": "a5e72a8b-b95f-453f-9fae-18b680484535",
   "metadata": {},
   "outputs": [],
   "source": [
    "import cv2\n",
    "image = cv2.imread('hari1.jpg',1)\n",
    "cv2.imshow('ORIGINAL IMAGE',image)\n",
    "hsv = cv2.cvtColor(image,cv2.COLOR_RGB2HSV)\n",
    "cv2.imshow('RGB2HSV',hsv)\n",
    "cv2.waitKey(0)\n",
    "cv2.destroyAllWindows()"
   ]
  },
  {
   "cell_type": "code",
   "execution_count": 10,
   "id": "6d509c51-dd39-447b-8744-ee6a1c7f79ca",
   "metadata": {},
   "outputs": [],
   "source": [
    "import cv2\n",
    "image = cv2.imread('hari1.jpg',1)\n",
    "cv2.imshow('ORIGINAL IMAGE',image)\n",
    "gray = cv2.cvtColor(image,cv2.COLOR_RGB2GRAY)\n",
    "cv2.imshow('RGB2GRAY',gray)\n",
    "cv2.waitKey(0)\n",
    "cv2.destroyAllWindows()"
   ]
  },
  {
   "cell_type": "code",
   "execution_count": 11,
   "id": "b4b2710f-982a-46fb-b685-99f257672481",
   "metadata": {},
   "outputs": [],
   "source": [
    "import cv2\n",
    "image = cv2.imread('hari1.jpg',1)\n",
    "cv2.imshow('ORIGINAL IMAGE',image)\n",
    "YCrCb = cv2.cvtColor(image, cv2.COLOR_BGR2YCrCb)\n",
    "cv2.imshow('RGB-2-YCrCb',YCrCb)\n",
    "cv2.waitKey(0)\n",
    "cv2.destroyAllWindows()"
   ]
  },
  {
   "cell_type": "code",
   "execution_count": 12,
   "id": "d8c08a7d-9bae-4a23-b56e-edcfa3ed14cd",
   "metadata": {},
   "outputs": [],
   "source": [
    "import cv2\n",
    "image = cv2.imread('hari1.jpg',1)\n",
    "cv2.imshow('ORIGINAL IMAGE',image)\n",
    "RGB = cv2.cvtColor(image,cv2.COLOR_HSV2BGR)\n",
    "cv2.imshow('HSV2RGB',RGB)\n",
    "cv2.waitKey(0)\n",
    "cv2.destroyAllWindows()"
   ]
  },
  {
   "cell_type": "code",
   "execution_count": 13,
   "id": "f88327a6-ce1d-4718-b150-38cc787c7420",
   "metadata": {},
   "outputs": [
    {
     "name": "stdout",
     "output_type": "stream",
     "text": [
      "Pixel value at (100, 100): [177 211 210]\n"
     ]
    }
   ],
   "source": [
    "pixel_value = image[100, 100]\n",
    "print(f\"Pixel value at (100, 100): {pixel_value}\")"
   ]
  },
  {
   "cell_type": "code",
   "execution_count": 15,
   "id": "0ddc854f-16b3-463a-ba4a-95846eee80ed",
   "metadata": {},
   "outputs": [],
   "source": [
    "import cv2\n",
    "image = cv2.imread('hari1.jpg',1)\n",
    "cv2.imshow('ORIGINAL IMAGE',image)\n",
    "image[200, 200] = [255, 255, 255] \n",
    "cv2.imshow('MODIFIED IMAGE', image)\n",
    "cv2.waitKey(0)\n",
    "cv2.destroyAllWindows()"
   ]
  },
  {
   "cell_type": "code",
   "execution_count": 16,
   "id": "f9b74b68-5128-4acc-b6cf-6f84f4e3c58b",
   "metadata": {},
   "outputs": [],
   "source": [
    "cv2.imshow('ORIGINAL IMAGE',image)\n",
    "resized_image = cv2.resize(image, (image.shape[1] // 2, image.shape[0] // 2))\n",
    "cv2.imshow('RESIZED IMAGE', resized_image)\n",
    "cv2.waitKey(0)\n",
    "cv2.destroyAllWindows()"
   ]
  },
  {
   "cell_type": "code",
   "execution_count": null,
   "id": "9953a5a7-2cad-4a5d-a4f4-c80bff14ac27",
   "metadata": {},
   "outputs": [],
   "source": []
  }
 ],
 "metadata": {
  "kernelspec": {
   "display_name": "Python 3 (ipykernel)",
   "language": "python",
   "name": "python3"
  },
  "language_info": {
   "codemirror_mode": {
    "name": "ipython",
    "version": 3
   },
   "file_extension": ".py",
   "mimetype": "text/x-python",
   "name": "python",
   "nbconvert_exporter": "python",
   "pygments_lexer": "ipython3",
   "version": "3.12.7"
  }
 },
 "nbformat": 4,
 "nbformat_minor": 5
}
